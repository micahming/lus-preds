{
  "nbformat": 4,
  "nbformat_minor": 0,
  "metadata": {
    "colab": {
      "provenance": [],
      "collapsed_sections": [
        "iV5LmKA8z-xG",
        "guGRMGsHJBlS",
        "clWBb_eoJz-l",
        "NeeGnNFfMc6T",
        "ErRCtkd8MhzP",
        "gE9ZeB2LMk5_",
        "nUnmp4faMk6Y"
      ],
      "toc_visible": true,
      "authorship_tag": "ABX9TyNbC/DpoLSo8ZcvhWzhxhJg",
      "include_colab_link": true
    },
    "kernelspec": {
      "name": "python3",
      "display_name": "Python 3"
    },
    "language_info": {
      "name": "python"
    }
  },
  "cells": [
    {
      "cell_type": "markdown",
      "metadata": {
        "id": "view-in-github",
        "colab_type": "text"
      },
      "source": [
        "<a href=\"https://colab.research.google.com/github/micahming/lus-preds/blob/main/EMA.ipynb\" target=\"_parent\"><img src=\"https://colab.research.google.com/assets/colab-badge.svg\" alt=\"Open In Colab\"/></a>"
      ]
    },
    {
      "cell_type": "markdown",
      "source": [
        "# IMPORT"
      ],
      "metadata": {
        "id": "dydRp0RjIUfG"
      }
    },
    {
      "cell_type": "code",
      "execution_count": null,
      "metadata": {
        "id": "leT36byojcGa"
      },
      "outputs": [],
      "source": [
        "\n",
        "from glob import glob\n",
        "from datetime import datetime\n",
        "import openpyxl\n",
        "import matplotlib.pyplot as plt\n",
        "import plotly.express as px\n",
        "import pytz\n",
        "import pandas as pd\n",
        "from statsmodels.tsa.holtwinters import ExponentialSmoothing\n",
        "from sklearn.metrics import mean_absolute_error\n",
        "from sklearn.metrics import mean_squared_error\n",
        "from math import sqrt"
      ]
    },
    {
      "cell_type": "code",
      "source": [],
      "metadata": {
        "id": "nrdxgYwOHUgb"
      },
      "execution_count": null,
      "outputs": []
    },
    {
      "cell_type": "markdown",
      "source": [
        "# READ"
      ],
      "metadata": {
        "id": "iV5LmKA8z-xG"
      }
    },
    {
      "cell_type": "code",
      "source": [
        "def wrangle(filepath):\n",
        "\n",
        "    df =pd.read_excel(filepath)\n",
        "    #Create timestamp\n",
        "    file_name = f\" {filepath} \"\n",
        "    file_name = file_name.replace(\".xlsx.xls\",\"\").replace(\"/content/LUSE_STOCK/\",\"\").replace(\" \",\"\")\n",
        "    formalt= '%Y-%m-%d'\n",
        "    timestamp = datetime.strptime(file_name,formalt)\n",
        "\n",
        "\n",
        "    #Adding Column Names\n",
        "    column_row_1 = list(df.iloc[8])\n",
        "    column_row_2=[str(item) for item in (list(df.iloc[9]))]\n",
        "    column_row_3=[str(item) for item in (list(df.iloc[10]))]\n",
        "\n",
        "    column_names=[]\n",
        "    count = 0\n",
        "    for name in column_row_1:\n",
        "        freshname=column_row_1[count] + column_row_2[count]+ column_row_3[count]\n",
        "        new = freshname.replace(\"nan\",\"\",2)\n",
        "        column_names.append(new)\n",
        "        count=count+1\n",
        "\n",
        "    df.columns = column_names\n",
        "\n",
        "\n",
        "\n",
        "\n",
        "    #Create StringCheck\n",
        "\n",
        "    string_check = ['AELZ', 'ATEL', 'BATA', 'BATZ', 'CCHZ', 'CECZ', 'FARM', 'FQMZ',\n",
        "           'INVE', 'LAFA', 'MAFS', 'NATB', 'PMDZ', 'PRIM', 'PUMA', 'REIZ',\n",
        "           'SCBL', 'SHOP', 'ZABR', 'ZCCM', 'ZMBF', 'ZMFA', 'ZNCO', 'ZSUG']\n",
        "\n",
        "    pattern = '|'.join(string_check)\n",
        "    #Apply mask to only show companies\n",
        "    cleaner=df['Instrument'].str.contains(pattern).fillna(False)\n",
        "    df = df[cleaner]\n",
        "    #Fill NaN Values\n",
        "    df=df.fillna(0)\n",
        "\n",
        "    #Filter for select companies\n",
        "    select_companies = ['CECZ','ATEL','REIZ','SCBL','SHOP']\n",
        "    string_check2 = \"|\".join(select_companies)\n",
        "    df=df[df['Instrument'].str.contains(string_check2)]\n",
        "\n",
        "    #Add DataFrame Date\n",
        "    df['timestamp'] = [timestamp] * 5\n",
        "\n",
        "   #Drop Columns\n",
        "    # df= df.drop(columns=[ 'Bid Qty', 'BidPrice', 'AskPrice', 'Ask Qty',\n",
        "    #    'LastTradePrice', 'NetChange', 'TotalTurnover',\n",
        "    #    'AveragePrice', 'LastTradedSize', '52 WeekHigh', '52 WeekLow',\n",
        "    #    'OpeningPrice', 'Change%', 'PrevClosingPrice', 'TotalTrades',\n",
        "    #    'TotalVolume', 'ForeignSells'], inplace =True)\n",
        "\n",
        "\n",
        "\n",
        "    return df"
      ],
      "metadata": {
        "id": "XXJM8sxw5lox"
      },
      "execution_count": null,
      "outputs": []
    },
    {
      "cell_type": "code",
      "source": [
        "files = sorted(glob(\"/content/LUSE_STOCK/*-*-*.xlsx.xls\"))\n"
      ],
      "metadata": {
        "id": "OWxYLifi5l9c"
      },
      "execution_count": null,
      "outputs": []
    },
    {
      "cell_type": "code",
      "source": [
        "frames = [wrangle(file) for file in files]\n",
        "\n"
      ],
      "metadata": {
        "id": "4myaJypM5mIe",
        "colab": {
          "base_uri": "https://localhost:8080/"
        },
        "outputId": "27cc4f3f-e568-4b68-8ea3-2252c63802f7"
      },
      "execution_count": null,
      "outputs": [
        {
          "output_type": "stream",
          "name": "stderr",
          "text": [
            "<ipython-input-54-34b4bdbd57c5>:48: SettingWithCopyWarning: \n",
            "A value is trying to be set on a copy of a slice from a DataFrame.\n",
            "Try using .loc[row_indexer,col_indexer] = value instead\n",
            "\n",
            "See the caveats in the documentation: https://pandas.pydata.org/pandas-docs/stable/user_guide/indexing.html#returning-a-view-versus-a-copy\n",
            "  df['timestamp'] = [timestamp] * 5\n"
          ]
        }
      ]
    },
    {
      "cell_type": "code",
      "source": [
        "atel_frames=[(frame[frame['Instrument']=='ATEL']) for frame in frames]\n",
        "cecz_frames=[(frame[frame['Instrument']=='CECZ']) for frame in frames]\n",
        "reiz_frames=[(frame[frame['Instrument']=='REIZ']) for frame in frames]\n",
        "scbl_frames=[(frame[frame['Instrument']=='SCBL']) for frame in frames]\n",
        "shop_frames=[(frame[frame['Instrument']=='SHOP']) for frame in frames]"
      ],
      "metadata": {
        "id": "TfBusd4w5mJu"
      },
      "execution_count": null,
      "outputs": []
    },
    {
      "cell_type": "code",
      "source": [
        "final_atel_frame= pd.concat(atel_frames).fillna(0)\n",
        "final_cecz_frame= pd.concat(cecz_frames).fillna(0)\n",
        "final_reiz_frame= pd.concat(reiz_frames).fillna(0)\n",
        "final_scbl_frame= pd.concat(scbl_frames).fillna(0)\n",
        "final_shop_frame= pd.concat(shop_frames).fillna(0)"
      ],
      "metadata": {
        "id": "Rnv_czlR5mOP"
      },
      "execution_count": null,
      "outputs": []
    },
    {
      "cell_type": "code",
      "source": [
        "final_scbl_frame.head(100)"
      ],
      "metadata": {
        "colab": {
          "base_uri": "https://localhost:8080/"
        },
        "id": "023gj7n8mU4H",
        "outputId": "b5168642-6cd5-4b0c-9814-041ee38869eb"
      },
      "execution_count": null,
      "outputs": [
        {
          "output_type": "execute_result",
          "data": {
            "text/plain": [
              "   Instrument  Bid Qty  BidPrice  AskPrice  Ask Qty  LastTradePrice  \\\n",
              "27       SCBL        0       0.0      1.63    13500            1.63   \n",
              "27       SCBL        0       0.0      1.63    13500            0.00   \n",
              "27       SCBL        0       0.0      1.63    13500            0.00   \n",
              "27       SCBL        0       0.0      1.63    17400            1.63   \n",
              "27       SCBL        0       0.0      1.63    17400            0.00   \n",
              "..        ...      ...       ...       ...      ...             ...   \n",
              "27       SCBL        0       0.0      1.50    59066            0.00   \n",
              "27       SCBL        0       0.0      1.50    59066            0.00   \n",
              "27       SCBL        0       0.0      1.50    59066            0.00   \n",
              "27       SCBL        0       0.0      1.50    59066            0.00   \n",
              "27       SCBL        0       0.0      1.50    59066            0.00   \n",
              "\n",
              "    NetChange  ClosingPrice  TotalTurnover  AveragePrice  ...  52 WeekLow  \\\n",
              "27        0.0          1.63        1305.63          1.63  ...        1.63   \n",
              "27        0.0          1.63           0.00          0.00  ...        1.63   \n",
              "27        0.0          1.63           0.00          0.00  ...        1.63   \n",
              "27        0.0          1.63         971.48          1.63  ...        1.63   \n",
              "27        0.0          1.63           0.00          0.00  ...        1.63   \n",
              "..        ...           ...            ...           ...  ...         ...   \n",
              "27        0.0          1.50           0.00          0.00  ...        1.50   \n",
              "27        0.0          1.50           0.00          0.00  ...        1.50   \n",
              "27        0.0          1.50           0.00          0.00  ...        1.50   \n",
              "27        0.0          1.50           0.00          0.00  ...        1.50   \n",
              "27        0.0          1.50           0.00          0.00  ...        1.50   \n",
              "\n",
              "    OpeningPrice  Change%  PrevClosingPrice  TotalTrades  TotalVolume  \\\n",
              "27          1.63      0.0              1.63            3          801   \n",
              "27          1.63      0.0              1.63            0            0   \n",
              "27          1.63      0.0              1.63            0            0   \n",
              "27          1.63      0.0              1.63            9          596   \n",
              "27          1.63      0.0              1.63            0            0   \n",
              "..           ...      ...               ...          ...          ...   \n",
              "27          1.50      0.0              1.50            0            0   \n",
              "27          1.50      0.0              1.50            0            0   \n",
              "27          1.50      0.0              1.50            0            0   \n",
              "27          1.50      0.0              1.50            0            0   \n",
              "27          1.50      0.0              1.50            0            0   \n",
              "\n",
              "    ForeignBuys ForeignSells  timestamp  ForeignBuy  \n",
              "27            0            0 2020-01-02         0.0  \n",
              "27            0            0 2020-01-03         0.0  \n",
              "27            0            0 2020-01-06         0.0  \n",
              "27            0            0 2020-01-07         0.0  \n",
              "27            0            0 2020-01-08         0.0  \n",
              "..          ...          ...        ...         ...  \n",
              "27            0            0 2020-05-21         0.0  \n",
              "27            0            0 2020-05-22         0.0  \n",
              "27            0            0 2020-05-26         0.0  \n",
              "27            0            0 2020-05-27         0.0  \n",
              "27            0            0 2020-05-28         0.0  \n",
              "\n",
              "[100 rows x 22 columns]"
            ],
            "text/html": [
              "\n",
              "  <div id=\"df-6b69b78d-62da-475c-b6d9-9a3b0e1a997e\" class=\"colab-df-container\">\n",
              "    <div>\n",
              "<style scoped>\n",
              "    .dataframe tbody tr th:only-of-type {\n",
              "        vertical-align: middle;\n",
              "    }\n",
              "\n",
              "    .dataframe tbody tr th {\n",
              "        vertical-align: top;\n",
              "    }\n",
              "\n",
              "    .dataframe thead th {\n",
              "        text-align: right;\n",
              "    }\n",
              "</style>\n",
              "<table border=\"1\" class=\"dataframe\">\n",
              "  <thead>\n",
              "    <tr style=\"text-align: right;\">\n",
              "      <th></th>\n",
              "      <th>Instrument</th>\n",
              "      <th>Bid Qty</th>\n",
              "      <th>BidPrice</th>\n",
              "      <th>AskPrice</th>\n",
              "      <th>Ask Qty</th>\n",
              "      <th>LastTradePrice</th>\n",
              "      <th>NetChange</th>\n",
              "      <th>ClosingPrice</th>\n",
              "      <th>TotalTurnover</th>\n",
              "      <th>AveragePrice</th>\n",
              "      <th>...</th>\n",
              "      <th>52 WeekLow</th>\n",
              "      <th>OpeningPrice</th>\n",
              "      <th>Change%</th>\n",
              "      <th>PrevClosingPrice</th>\n",
              "      <th>TotalTrades</th>\n",
              "      <th>TotalVolume</th>\n",
              "      <th>ForeignBuys</th>\n",
              "      <th>ForeignSells</th>\n",
              "      <th>timestamp</th>\n",
              "      <th>ForeignBuy</th>\n",
              "    </tr>\n",
              "  </thead>\n",
              "  <tbody>\n",
              "    <tr>\n",
              "      <th>27</th>\n",
              "      <td>SCBL</td>\n",
              "      <td>0</td>\n",
              "      <td>0.0</td>\n",
              "      <td>1.63</td>\n",
              "      <td>13500</td>\n",
              "      <td>1.63</td>\n",
              "      <td>0.0</td>\n",
              "      <td>1.63</td>\n",
              "      <td>1305.63</td>\n",
              "      <td>1.63</td>\n",
              "      <td>...</td>\n",
              "      <td>1.63</td>\n",
              "      <td>1.63</td>\n",
              "      <td>0.0</td>\n",
              "      <td>1.63</td>\n",
              "      <td>3</td>\n",
              "      <td>801</td>\n",
              "      <td>0</td>\n",
              "      <td>0</td>\n",
              "      <td>2020-01-02</td>\n",
              "      <td>0.0</td>\n",
              "    </tr>\n",
              "    <tr>\n",
              "      <th>27</th>\n",
              "      <td>SCBL</td>\n",
              "      <td>0</td>\n",
              "      <td>0.0</td>\n",
              "      <td>1.63</td>\n",
              "      <td>13500</td>\n",
              "      <td>0.00</td>\n",
              "      <td>0.0</td>\n",
              "      <td>1.63</td>\n",
              "      <td>0.00</td>\n",
              "      <td>0.00</td>\n",
              "      <td>...</td>\n",
              "      <td>1.63</td>\n",
              "      <td>1.63</td>\n",
              "      <td>0.0</td>\n",
              "      <td>1.63</td>\n",
              "      <td>0</td>\n",
              "      <td>0</td>\n",
              "      <td>0</td>\n",
              "      <td>0</td>\n",
              "      <td>2020-01-03</td>\n",
              "      <td>0.0</td>\n",
              "    </tr>\n",
              "    <tr>\n",
              "      <th>27</th>\n",
              "      <td>SCBL</td>\n",
              "      <td>0</td>\n",
              "      <td>0.0</td>\n",
              "      <td>1.63</td>\n",
              "      <td>13500</td>\n",
              "      <td>0.00</td>\n",
              "      <td>0.0</td>\n",
              "      <td>1.63</td>\n",
              "      <td>0.00</td>\n",
              "      <td>0.00</td>\n",
              "      <td>...</td>\n",
              "      <td>1.63</td>\n",
              "      <td>1.63</td>\n",
              "      <td>0.0</td>\n",
              "      <td>1.63</td>\n",
              "      <td>0</td>\n",
              "      <td>0</td>\n",
              "      <td>0</td>\n",
              "      <td>0</td>\n",
              "      <td>2020-01-06</td>\n",
              "      <td>0.0</td>\n",
              "    </tr>\n",
              "    <tr>\n",
              "      <th>27</th>\n",
              "      <td>SCBL</td>\n",
              "      <td>0</td>\n",
              "      <td>0.0</td>\n",
              "      <td>1.63</td>\n",
              "      <td>17400</td>\n",
              "      <td>1.63</td>\n",
              "      <td>0.0</td>\n",
              "      <td>1.63</td>\n",
              "      <td>971.48</td>\n",
              "      <td>1.63</td>\n",
              "      <td>...</td>\n",
              "      <td>1.63</td>\n",
              "      <td>1.63</td>\n",
              "      <td>0.0</td>\n",
              "      <td>1.63</td>\n",
              "      <td>9</td>\n",
              "      <td>596</td>\n",
              "      <td>0</td>\n",
              "      <td>0</td>\n",
              "      <td>2020-01-07</td>\n",
              "      <td>0.0</td>\n",
              "    </tr>\n",
              "    <tr>\n",
              "      <th>27</th>\n",
              "      <td>SCBL</td>\n",
              "      <td>0</td>\n",
              "      <td>0.0</td>\n",
              "      <td>1.63</td>\n",
              "      <td>17400</td>\n",
              "      <td>0.00</td>\n",
              "      <td>0.0</td>\n",
              "      <td>1.63</td>\n",
              "      <td>0.00</td>\n",
              "      <td>0.00</td>\n",
              "      <td>...</td>\n",
              "      <td>1.63</td>\n",
              "      <td>1.63</td>\n",
              "      <td>0.0</td>\n",
              "      <td>1.63</td>\n",
              "      <td>0</td>\n",
              "      <td>0</td>\n",
              "      <td>0</td>\n",
              "      <td>0</td>\n",
              "      <td>2020-01-08</td>\n",
              "      <td>0.0</td>\n",
              "    </tr>\n",
              "    <tr>\n",
              "      <th>...</th>\n",
              "      <td>...</td>\n",
              "      <td>...</td>\n",
              "      <td>...</td>\n",
              "      <td>...</td>\n",
              "      <td>...</td>\n",
              "      <td>...</td>\n",
              "      <td>...</td>\n",
              "      <td>...</td>\n",
              "      <td>...</td>\n",
              "      <td>...</td>\n",
              "      <td>...</td>\n",
              "      <td>...</td>\n",
              "      <td>...</td>\n",
              "      <td>...</td>\n",
              "      <td>...</td>\n",
              "      <td>...</td>\n",
              "      <td>...</td>\n",
              "      <td>...</td>\n",
              "      <td>...</td>\n",
              "      <td>...</td>\n",
              "      <td>...</td>\n",
              "    </tr>\n",
              "    <tr>\n",
              "      <th>27</th>\n",
              "      <td>SCBL</td>\n",
              "      <td>0</td>\n",
              "      <td>0.0</td>\n",
              "      <td>1.50</td>\n",
              "      <td>59066</td>\n",
              "      <td>0.00</td>\n",
              "      <td>0.0</td>\n",
              "      <td>1.50</td>\n",
              "      <td>0.00</td>\n",
              "      <td>0.00</td>\n",
              "      <td>...</td>\n",
              "      <td>1.50</td>\n",
              "      <td>1.50</td>\n",
              "      <td>0.0</td>\n",
              "      <td>1.50</td>\n",
              "      <td>0</td>\n",
              "      <td>0</td>\n",
              "      <td>0</td>\n",
              "      <td>0</td>\n",
              "      <td>2020-05-21</td>\n",
              "      <td>0.0</td>\n",
              "    </tr>\n",
              "    <tr>\n",
              "      <th>27</th>\n",
              "      <td>SCBL</td>\n",
              "      <td>0</td>\n",
              "      <td>0.0</td>\n",
              "      <td>1.50</td>\n",
              "      <td>59066</td>\n",
              "      <td>0.00</td>\n",
              "      <td>0.0</td>\n",
              "      <td>1.50</td>\n",
              "      <td>0.00</td>\n",
              "      <td>0.00</td>\n",
              "      <td>...</td>\n",
              "      <td>1.50</td>\n",
              "      <td>1.50</td>\n",
              "      <td>0.0</td>\n",
              "      <td>1.50</td>\n",
              "      <td>0</td>\n",
              "      <td>0</td>\n",
              "      <td>0</td>\n",
              "      <td>0</td>\n",
              "      <td>2020-05-22</td>\n",
              "      <td>0.0</td>\n",
              "    </tr>\n",
              "    <tr>\n",
              "      <th>27</th>\n",
              "      <td>SCBL</td>\n",
              "      <td>0</td>\n",
              "      <td>0.0</td>\n",
              "      <td>1.50</td>\n",
              "      <td>59066</td>\n",
              "      <td>0.00</td>\n",
              "      <td>0.0</td>\n",
              "      <td>1.50</td>\n",
              "      <td>0.00</td>\n",
              "      <td>0.00</td>\n",
              "      <td>...</td>\n",
              "      <td>1.50</td>\n",
              "      <td>1.50</td>\n",
              "      <td>0.0</td>\n",
              "      <td>1.50</td>\n",
              "      <td>0</td>\n",
              "      <td>0</td>\n",
              "      <td>0</td>\n",
              "      <td>0</td>\n",
              "      <td>2020-05-26</td>\n",
              "      <td>0.0</td>\n",
              "    </tr>\n",
              "    <tr>\n",
              "      <th>27</th>\n",
              "      <td>SCBL</td>\n",
              "      <td>0</td>\n",
              "      <td>0.0</td>\n",
              "      <td>1.50</td>\n",
              "      <td>59066</td>\n",
              "      <td>0.00</td>\n",
              "      <td>0.0</td>\n",
              "      <td>1.50</td>\n",
              "      <td>0.00</td>\n",
              "      <td>0.00</td>\n",
              "      <td>...</td>\n",
              "      <td>1.50</td>\n",
              "      <td>1.50</td>\n",
              "      <td>0.0</td>\n",
              "      <td>1.50</td>\n",
              "      <td>0</td>\n",
              "      <td>0</td>\n",
              "      <td>0</td>\n",
              "      <td>0</td>\n",
              "      <td>2020-05-27</td>\n",
              "      <td>0.0</td>\n",
              "    </tr>\n",
              "    <tr>\n",
              "      <th>27</th>\n",
              "      <td>SCBL</td>\n",
              "      <td>0</td>\n",
              "      <td>0.0</td>\n",
              "      <td>1.50</td>\n",
              "      <td>59066</td>\n",
              "      <td>0.00</td>\n",
              "      <td>0.0</td>\n",
              "      <td>1.50</td>\n",
              "      <td>0.00</td>\n",
              "      <td>0.00</td>\n",
              "      <td>...</td>\n",
              "      <td>1.50</td>\n",
              "      <td>1.50</td>\n",
              "      <td>0.0</td>\n",
              "      <td>1.50</td>\n",
              "      <td>0</td>\n",
              "      <td>0</td>\n",
              "      <td>0</td>\n",
              "      <td>0</td>\n",
              "      <td>2020-05-28</td>\n",
              "      <td>0.0</td>\n",
              "    </tr>\n",
              "  </tbody>\n",
              "</table>\n",
              "<p>100 rows × 22 columns</p>\n",
              "</div>\n",
              "    <div class=\"colab-df-buttons\">\n",
              "\n",
              "  <div class=\"colab-df-container\">\n",
              "    <button class=\"colab-df-convert\" onclick=\"convertToInteractive('df-6b69b78d-62da-475c-b6d9-9a3b0e1a997e')\"\n",
              "            title=\"Convert this dataframe to an interactive table.\"\n",
              "            style=\"display:none;\">\n",
              "\n",
              "  <svg xmlns=\"http://www.w3.org/2000/svg\" height=\"24px\" viewBox=\"0 -960 960 960\">\n",
              "    <path d=\"M120-120v-720h720v720H120Zm60-500h600v-160H180v160Zm220 220h160v-160H400v160Zm0 220h160v-160H400v160ZM180-400h160v-160H180v160Zm440 0h160v-160H620v160ZM180-180h160v-160H180v160Zm440 0h160v-160H620v160Z\"/>\n",
              "  </svg>\n",
              "    </button>\n",
              "\n",
              "  <style>\n",
              "    .colab-df-container {\n",
              "      display:flex;\n",
              "      gap: 12px;\n",
              "    }\n",
              "\n",
              "    .colab-df-convert {\n",
              "      background-color: #E8F0FE;\n",
              "      border: none;\n",
              "      border-radius: 50%;\n",
              "      cursor: pointer;\n",
              "      display: none;\n",
              "      fill: #1967D2;\n",
              "      height: 32px;\n",
              "      padding: 0 0 0 0;\n",
              "      width: 32px;\n",
              "    }\n",
              "\n",
              "    .colab-df-convert:hover {\n",
              "      background-color: #E2EBFA;\n",
              "      box-shadow: 0px 1px 2px rgba(60, 64, 67, 0.3), 0px 1px 3px 1px rgba(60, 64, 67, 0.15);\n",
              "      fill: #174EA6;\n",
              "    }\n",
              "\n",
              "    .colab-df-buttons div {\n",
              "      margin-bottom: 4px;\n",
              "    }\n",
              "\n",
              "    [theme=dark] .colab-df-convert {\n",
              "      background-color: #3B4455;\n",
              "      fill: #D2E3FC;\n",
              "    }\n",
              "\n",
              "    [theme=dark] .colab-df-convert:hover {\n",
              "      background-color: #434B5C;\n",
              "      box-shadow: 0px 1px 3px 1px rgba(0, 0, 0, 0.15);\n",
              "      filter: drop-shadow(0px 1px 2px rgba(0, 0, 0, 0.3));\n",
              "      fill: #FFFFFF;\n",
              "    }\n",
              "  </style>\n",
              "\n",
              "    <script>\n",
              "      const buttonEl =\n",
              "        document.querySelector('#df-6b69b78d-62da-475c-b6d9-9a3b0e1a997e button.colab-df-convert');\n",
              "      buttonEl.style.display =\n",
              "        google.colab.kernel.accessAllowed ? 'block' : 'none';\n",
              "\n",
              "      async function convertToInteractive(key) {\n",
              "        const element = document.querySelector('#df-6b69b78d-62da-475c-b6d9-9a3b0e1a997e');\n",
              "        const dataTable =\n",
              "          await google.colab.kernel.invokeFunction('convertToInteractive',\n",
              "                                                    [key], {});\n",
              "        if (!dataTable) return;\n",
              "\n",
              "        const docLinkHtml = 'Like what you see? Visit the ' +\n",
              "          '<a target=\"_blank\" href=https://colab.research.google.com/notebooks/data_table.ipynb>data table notebook</a>'\n",
              "          + ' to learn more about interactive tables.';\n",
              "        element.innerHTML = '';\n",
              "        dataTable['output_type'] = 'display_data';\n",
              "        await google.colab.output.renderOutput(dataTable, element);\n",
              "        const docLink = document.createElement('div');\n",
              "        docLink.innerHTML = docLinkHtml;\n",
              "        element.appendChild(docLink);\n",
              "      }\n",
              "    </script>\n",
              "  </div>\n",
              "\n",
              "\n",
              "<div id=\"df-fbad9085-4c3d-4c6a-96ad-46883ea6011a\">\n",
              "  <button class=\"colab-df-quickchart\" onclick=\"quickchart('df-fbad9085-4c3d-4c6a-96ad-46883ea6011a')\"\n",
              "            title=\"Suggest charts\"\n",
              "            style=\"display:none;\">\n",
              "\n",
              "<svg xmlns=\"http://www.w3.org/2000/svg\" height=\"24px\"viewBox=\"0 0 24 24\"\n",
              "     width=\"24px\">\n",
              "    <g>\n",
              "        <path d=\"M19 3H5c-1.1 0-2 .9-2 2v14c0 1.1.9 2 2 2h14c1.1 0 2-.9 2-2V5c0-1.1-.9-2-2-2zM9 17H7v-7h2v7zm4 0h-2V7h2v10zm4 0h-2v-4h2v4z\"/>\n",
              "    </g>\n",
              "</svg>\n",
              "  </button>\n",
              "\n",
              "<style>\n",
              "  .colab-df-quickchart {\n",
              "      --bg-color: #E8F0FE;\n",
              "      --fill-color: #1967D2;\n",
              "      --hover-bg-color: #E2EBFA;\n",
              "      --hover-fill-color: #174EA6;\n",
              "      --disabled-fill-color: #AAA;\n",
              "      --disabled-bg-color: #DDD;\n",
              "  }\n",
              "\n",
              "  [theme=dark] .colab-df-quickchart {\n",
              "      --bg-color: #3B4455;\n",
              "      --fill-color: #D2E3FC;\n",
              "      --hover-bg-color: #434B5C;\n",
              "      --hover-fill-color: #FFFFFF;\n",
              "      --disabled-bg-color: #3B4455;\n",
              "      --disabled-fill-color: #666;\n",
              "  }\n",
              "\n",
              "  .colab-df-quickchart {\n",
              "    background-color: var(--bg-color);\n",
              "    border: none;\n",
              "    border-radius: 50%;\n",
              "    cursor: pointer;\n",
              "    display: none;\n",
              "    fill: var(--fill-color);\n",
              "    height: 32px;\n",
              "    padding: 0;\n",
              "    width: 32px;\n",
              "  }\n",
              "\n",
              "  .colab-df-quickchart:hover {\n",
              "    background-color: var(--hover-bg-color);\n",
              "    box-shadow: 0 1px 2px rgba(60, 64, 67, 0.3), 0 1px 3px 1px rgba(60, 64, 67, 0.15);\n",
              "    fill: var(--button-hover-fill-color);\n",
              "  }\n",
              "\n",
              "  .colab-df-quickchart-complete:disabled,\n",
              "  .colab-df-quickchart-complete:disabled:hover {\n",
              "    background-color: var(--disabled-bg-color);\n",
              "    fill: var(--disabled-fill-color);\n",
              "    box-shadow: none;\n",
              "  }\n",
              "\n",
              "  .colab-df-spinner {\n",
              "    border: 2px solid var(--fill-color);\n",
              "    border-color: transparent;\n",
              "    border-bottom-color: var(--fill-color);\n",
              "    animation:\n",
              "      spin 1s steps(1) infinite;\n",
              "  }\n",
              "\n",
              "  @keyframes spin {\n",
              "    0% {\n",
              "      border-color: transparent;\n",
              "      border-bottom-color: var(--fill-color);\n",
              "      border-left-color: var(--fill-color);\n",
              "    }\n",
              "    20% {\n",
              "      border-color: transparent;\n",
              "      border-left-color: var(--fill-color);\n",
              "      border-top-color: var(--fill-color);\n",
              "    }\n",
              "    30% {\n",
              "      border-color: transparent;\n",
              "      border-left-color: var(--fill-color);\n",
              "      border-top-color: var(--fill-color);\n",
              "      border-right-color: var(--fill-color);\n",
              "    }\n",
              "    40% {\n",
              "      border-color: transparent;\n",
              "      border-right-color: var(--fill-color);\n",
              "      border-top-color: var(--fill-color);\n",
              "    }\n",
              "    60% {\n",
              "      border-color: transparent;\n",
              "      border-right-color: var(--fill-color);\n",
              "    }\n",
              "    80% {\n",
              "      border-color: transparent;\n",
              "      border-right-color: var(--fill-color);\n",
              "      border-bottom-color: var(--fill-color);\n",
              "    }\n",
              "    90% {\n",
              "      border-color: transparent;\n",
              "      border-bottom-color: var(--fill-color);\n",
              "    }\n",
              "  }\n",
              "</style>\n",
              "\n",
              "  <script>\n",
              "    async function quickchart(key) {\n",
              "      const quickchartButtonEl =\n",
              "        document.querySelector('#' + key + ' button');\n",
              "      quickchartButtonEl.disabled = true;  // To prevent multiple clicks.\n",
              "      quickchartButtonEl.classList.add('colab-df-spinner');\n",
              "      try {\n",
              "        const charts = await google.colab.kernel.invokeFunction(\n",
              "            'suggestCharts', [key], {});\n",
              "      } catch (error) {\n",
              "        console.error('Error during call to suggestCharts:', error);\n",
              "      }\n",
              "      quickchartButtonEl.classList.remove('colab-df-spinner');\n",
              "      quickchartButtonEl.classList.add('colab-df-quickchart-complete');\n",
              "    }\n",
              "    (() => {\n",
              "      let quickchartButtonEl =\n",
              "        document.querySelector('#df-fbad9085-4c3d-4c6a-96ad-46883ea6011a button');\n",
              "      quickchartButtonEl.style.display =\n",
              "        google.colab.kernel.accessAllowed ? 'block' : 'none';\n",
              "    })();\n",
              "  </script>\n",
              "</div>\n",
              "\n",
              "    </div>\n",
              "  </div>\n"
            ],
            "application/vnd.google.colaboratory.intrinsic+json": {
              "type": "dataframe",
              "variable_name": "final_scbl_frame"
            }
          },
          "metadata": {},
          "execution_count": 59
        }
      ]
    },
    {
      "cell_type": "code",
      "source": [
        "final_atel_frame=final_atel_frame.drop(columns=['Bid Qty', 'BidPrice', 'AskPrice', 'Ask Qty',\n",
        "       'LastTradePrice', 'NetChange','TotalTurnover',\n",
        "       'AveragePrice', 'LastTradedSize', '52 WeekHigh', '52 WeekLow',\n",
        "       'OpeningPrice', 'Change%', 'PrevClosingPrice', 'TotalTrades',\n",
        "       'TotalVolume', 'ForeignBuys', 'ForeignSells','ForeignBuy'])\n",
        "final_cecz_frame=final_cecz_frame.drop(columns=['Bid Qty', 'BidPrice', 'AskPrice', 'Ask Qty',\n",
        "       'LastTradePrice', 'NetChange','TotalTurnover',\n",
        "       'AveragePrice', 'LastTradedSize', '52 WeekHigh', '52 WeekLow',\n",
        "       'OpeningPrice', 'Change%', 'PrevClosingPrice', 'TotalTrades',\n",
        "       'TotalVolume', 'ForeignBuys', 'ForeignSells','ForeignBuy'])\n",
        "final_reiz_frame=final_reiz_frame.drop(columns=['Bid Qty', 'BidPrice', 'AskPrice', 'Ask Qty',\n",
        "       'LastTradePrice', 'NetChange','TotalTurnover',\n",
        "       'AveragePrice', 'LastTradedSize', '52 WeekHigh', '52 WeekLow',\n",
        "       'OpeningPrice', 'Change%', 'PrevClosingPrice', 'TotalTrades',\n",
        "       'TotalVolume', 'ForeignBuys', 'ForeignSells','ForeignBuy'])\n",
        "final_scbl_frame=final_scbl_frame.drop(columns=['Bid Qty', 'BidPrice', 'AskPrice', 'Ask Qty',\n",
        "       'LastTradePrice', 'NetChange','TotalTurnover',\n",
        "       'AveragePrice', 'LastTradedSize', '52 WeekHigh', '52 WeekLow',\n",
        "       'OpeningPrice', 'Change%', 'PrevClosingPrice', 'TotalTrades',\n",
        "       'TotalVolume', 'ForeignBuys', 'ForeignSells','ForeignBuy'])\n",
        "final_shop_frame=final_shop_frame.drop(columns=['Bid Qty', 'BidPrice', 'AskPrice', 'Ask Qty',\n",
        "       'LastTradePrice', 'NetChange','TotalTurnover',\n",
        "       'AveragePrice', 'LastTradedSize', '52 WeekHigh', '52 WeekLow',\n",
        "       'OpeningPrice', 'Change%', 'PrevClosingPrice', 'TotalTrades',\n",
        "       'TotalVolume', 'ForeignBuys', 'ForeignSells','ForeignBuy'])"
      ],
      "metadata": {
        "id": "-yOoBiYJ5mPr"
      },
      "execution_count": null,
      "outputs": []
    },
    {
      "cell_type": "code",
      "source": [
        "atel_time_series=final_atel_frame.set_index('timestamp').drop(columns='Instrument')\n",
        "cecz_time_series=final_cecz_frame.set_index('timestamp').drop(columns='Instrument')\n",
        "reiz_time_series=final_reiz_frame.set_index('timestamp').drop(columns='Instrument')\n",
        "scbl_time_series=final_scbl_frame.set_index('timestamp').drop(columns='Instrument')\n",
        "shop_time_series=final_shop_frame.set_index('timestamp').drop(columns='Instrument')"
      ],
      "metadata": {
        "id": "c0pKhoMzLmFo"
      },
      "execution_count": null,
      "outputs": []
    },
    {
      "cell_type": "code",
      "execution_count": null,
      "metadata": {
        "id": "AXr1Aw_sTmpn"
      },
      "outputs": [],
      "source": [
        "aligned_atel= atel_time_series.asfreq('b').fillna(method='ffill')\n",
        "aligned_cecz= cecz_time_series.asfreq('b').fillna(method='ffill')\n",
        "aligned_reiz= reiz_time_series.asfreq('b').fillna(method='ffill')\n",
        "aligned_scbl= scbl_time_series.asfreq('b').fillna(method='ffill')\n",
        "aligned_shop= shop_time_series.asfreq('b').fillna(method='ffill')"
      ]
    },
    {
      "cell_type": "code",
      "source": [
        "aligned_atel.info()\n",
        "aligned_atel.head()"
      ],
      "metadata": {
        "colab": {
          "base_uri": "https://localhost:8080/"
        },
        "id": "a0fA-sqYf-xm",
        "outputId": "c8a352a1-7a15-4372-e1e5-7e92d2952960"
      },
      "execution_count": null,
      "outputs": [
        {
          "output_type": "stream",
          "name": "stdout",
          "text": [
            "<class 'pandas.core.frame.DataFrame'>\n",
            "DatetimeIndex: 1075 entries, 2020-01-02 to 2024-02-14\n",
            "Freq: B\n",
            "Data columns (total 1 columns):\n",
            " #   Column        Non-Null Count  Dtype  \n",
            "---  ------        --------------  -----  \n",
            " 0   ClosingPrice  1075 non-null   float64\n",
            "dtypes: float64(1)\n",
            "memory usage: 16.8 KB\n"
          ]
        },
        {
          "output_type": "execute_result",
          "data": {
            "text/plain": [
              "            ClosingPrice\n",
              "timestamp               \n",
              "2020-01-02         31.48\n",
              "2020-01-03         31.48\n",
              "2020-01-06         31.48\n",
              "2020-01-07         31.48\n",
              "2020-01-08         31.48"
            ],
            "text/html": [
              "\n",
              "  <div id=\"df-cb20a7bf-e65c-47fe-b4d7-f98f524f9398\" class=\"colab-df-container\">\n",
              "    <div>\n",
              "<style scoped>\n",
              "    .dataframe tbody tr th:only-of-type {\n",
              "        vertical-align: middle;\n",
              "    }\n",
              "\n",
              "    .dataframe tbody tr th {\n",
              "        vertical-align: top;\n",
              "    }\n",
              "\n",
              "    .dataframe thead th {\n",
              "        text-align: right;\n",
              "    }\n",
              "</style>\n",
              "<table border=\"1\" class=\"dataframe\">\n",
              "  <thead>\n",
              "    <tr style=\"text-align: right;\">\n",
              "      <th></th>\n",
              "      <th>ClosingPrice</th>\n",
              "    </tr>\n",
              "    <tr>\n",
              "      <th>timestamp</th>\n",
              "      <th></th>\n",
              "    </tr>\n",
              "  </thead>\n",
              "  <tbody>\n",
              "    <tr>\n",
              "      <th>2020-01-02</th>\n",
              "      <td>31.48</td>\n",
              "    </tr>\n",
              "    <tr>\n",
              "      <th>2020-01-03</th>\n",
              "      <td>31.48</td>\n",
              "    </tr>\n",
              "    <tr>\n",
              "      <th>2020-01-06</th>\n",
              "      <td>31.48</td>\n",
              "    </tr>\n",
              "    <tr>\n",
              "      <th>2020-01-07</th>\n",
              "      <td>31.48</td>\n",
              "    </tr>\n",
              "    <tr>\n",
              "      <th>2020-01-08</th>\n",
              "      <td>31.48</td>\n",
              "    </tr>\n",
              "  </tbody>\n",
              "</table>\n",
              "</div>\n",
              "    <div class=\"colab-df-buttons\">\n",
              "\n",
              "  <div class=\"colab-df-container\">\n",
              "    <button class=\"colab-df-convert\" onclick=\"convertToInteractive('df-cb20a7bf-e65c-47fe-b4d7-f98f524f9398')\"\n",
              "            title=\"Convert this dataframe to an interactive table.\"\n",
              "            style=\"display:none;\">\n",
              "\n",
              "  <svg xmlns=\"http://www.w3.org/2000/svg\" height=\"24px\" viewBox=\"0 -960 960 960\">\n",
              "    <path d=\"M120-120v-720h720v720H120Zm60-500h600v-160H180v160Zm220 220h160v-160H400v160Zm0 220h160v-160H400v160ZM180-400h160v-160H180v160Zm440 0h160v-160H620v160ZM180-180h160v-160H180v160Zm440 0h160v-160H620v160Z\"/>\n",
              "  </svg>\n",
              "    </button>\n",
              "\n",
              "  <style>\n",
              "    .colab-df-container {\n",
              "      display:flex;\n",
              "      gap: 12px;\n",
              "    }\n",
              "\n",
              "    .colab-df-convert {\n",
              "      background-color: #E8F0FE;\n",
              "      border: none;\n",
              "      border-radius: 50%;\n",
              "      cursor: pointer;\n",
              "      display: none;\n",
              "      fill: #1967D2;\n",
              "      height: 32px;\n",
              "      padding: 0 0 0 0;\n",
              "      width: 32px;\n",
              "    }\n",
              "\n",
              "    .colab-df-convert:hover {\n",
              "      background-color: #E2EBFA;\n",
              "      box-shadow: 0px 1px 2px rgba(60, 64, 67, 0.3), 0px 1px 3px 1px rgba(60, 64, 67, 0.15);\n",
              "      fill: #174EA6;\n",
              "    }\n",
              "\n",
              "    .colab-df-buttons div {\n",
              "      margin-bottom: 4px;\n",
              "    }\n",
              "\n",
              "    [theme=dark] .colab-df-convert {\n",
              "      background-color: #3B4455;\n",
              "      fill: #D2E3FC;\n",
              "    }\n",
              "\n",
              "    [theme=dark] .colab-df-convert:hover {\n",
              "      background-color: #434B5C;\n",
              "      box-shadow: 0px 1px 3px 1px rgba(0, 0, 0, 0.15);\n",
              "      filter: drop-shadow(0px 1px 2px rgba(0, 0, 0, 0.3));\n",
              "      fill: #FFFFFF;\n",
              "    }\n",
              "  </style>\n",
              "\n",
              "    <script>\n",
              "      const buttonEl =\n",
              "        document.querySelector('#df-cb20a7bf-e65c-47fe-b4d7-f98f524f9398 button.colab-df-convert');\n",
              "      buttonEl.style.display =\n",
              "        google.colab.kernel.accessAllowed ? 'block' : 'none';\n",
              "\n",
              "      async function convertToInteractive(key) {\n",
              "        const element = document.querySelector('#df-cb20a7bf-e65c-47fe-b4d7-f98f524f9398');\n",
              "        const dataTable =\n",
              "          await google.colab.kernel.invokeFunction('convertToInteractive',\n",
              "                                                    [key], {});\n",
              "        if (!dataTable) return;\n",
              "\n",
              "        const docLinkHtml = 'Like what you see? Visit the ' +\n",
              "          '<a target=\"_blank\" href=https://colab.research.google.com/notebooks/data_table.ipynb>data table notebook</a>'\n",
              "          + ' to learn more about interactive tables.';\n",
              "        element.innerHTML = '';\n",
              "        dataTable['output_type'] = 'display_data';\n",
              "        await google.colab.output.renderOutput(dataTable, element);\n",
              "        const docLink = document.createElement('div');\n",
              "        docLink.innerHTML = docLinkHtml;\n",
              "        element.appendChild(docLink);\n",
              "      }\n",
              "    </script>\n",
              "  </div>\n",
              "\n",
              "\n",
              "<div id=\"df-9dc233db-cf2b-47c3-a4b4-c6dfd63f2b1b\">\n",
              "  <button class=\"colab-df-quickchart\" onclick=\"quickchart('df-9dc233db-cf2b-47c3-a4b4-c6dfd63f2b1b')\"\n",
              "            title=\"Suggest charts\"\n",
              "            style=\"display:none;\">\n",
              "\n",
              "<svg xmlns=\"http://www.w3.org/2000/svg\" height=\"24px\"viewBox=\"0 0 24 24\"\n",
              "     width=\"24px\">\n",
              "    <g>\n",
              "        <path d=\"M19 3H5c-1.1 0-2 .9-2 2v14c0 1.1.9 2 2 2h14c1.1 0 2-.9 2-2V5c0-1.1-.9-2-2-2zM9 17H7v-7h2v7zm4 0h-2V7h2v10zm4 0h-2v-4h2v4z\"/>\n",
              "    </g>\n",
              "</svg>\n",
              "  </button>\n",
              "\n",
              "<style>\n",
              "  .colab-df-quickchart {\n",
              "      --bg-color: #E8F0FE;\n",
              "      --fill-color: #1967D2;\n",
              "      --hover-bg-color: #E2EBFA;\n",
              "      --hover-fill-color: #174EA6;\n",
              "      --disabled-fill-color: #AAA;\n",
              "      --disabled-bg-color: #DDD;\n",
              "  }\n",
              "\n",
              "  [theme=dark] .colab-df-quickchart {\n",
              "      --bg-color: #3B4455;\n",
              "      --fill-color: #D2E3FC;\n",
              "      --hover-bg-color: #434B5C;\n",
              "      --hover-fill-color: #FFFFFF;\n",
              "      --disabled-bg-color: #3B4455;\n",
              "      --disabled-fill-color: #666;\n",
              "  }\n",
              "\n",
              "  .colab-df-quickchart {\n",
              "    background-color: var(--bg-color);\n",
              "    border: none;\n",
              "    border-radius: 50%;\n",
              "    cursor: pointer;\n",
              "    display: none;\n",
              "    fill: var(--fill-color);\n",
              "    height: 32px;\n",
              "    padding: 0;\n",
              "    width: 32px;\n",
              "  }\n",
              "\n",
              "  .colab-df-quickchart:hover {\n",
              "    background-color: var(--hover-bg-color);\n",
              "    box-shadow: 0 1px 2px rgba(60, 64, 67, 0.3), 0 1px 3px 1px rgba(60, 64, 67, 0.15);\n",
              "    fill: var(--button-hover-fill-color);\n",
              "  }\n",
              "\n",
              "  .colab-df-quickchart-complete:disabled,\n",
              "  .colab-df-quickchart-complete:disabled:hover {\n",
              "    background-color: var(--disabled-bg-color);\n",
              "    fill: var(--disabled-fill-color);\n",
              "    box-shadow: none;\n",
              "  }\n",
              "\n",
              "  .colab-df-spinner {\n",
              "    border: 2px solid var(--fill-color);\n",
              "    border-color: transparent;\n",
              "    border-bottom-color: var(--fill-color);\n",
              "    animation:\n",
              "      spin 1s steps(1) infinite;\n",
              "  }\n",
              "\n",
              "  @keyframes spin {\n",
              "    0% {\n",
              "      border-color: transparent;\n",
              "      border-bottom-color: var(--fill-color);\n",
              "      border-left-color: var(--fill-color);\n",
              "    }\n",
              "    20% {\n",
              "      border-color: transparent;\n",
              "      border-left-color: var(--fill-color);\n",
              "      border-top-color: var(--fill-color);\n",
              "    }\n",
              "    30% {\n",
              "      border-color: transparent;\n",
              "      border-left-color: var(--fill-color);\n",
              "      border-top-color: var(--fill-color);\n",
              "      border-right-color: var(--fill-color);\n",
              "    }\n",
              "    40% {\n",
              "      border-color: transparent;\n",
              "      border-right-color: var(--fill-color);\n",
              "      border-top-color: var(--fill-color);\n",
              "    }\n",
              "    60% {\n",
              "      border-color: transparent;\n",
              "      border-right-color: var(--fill-color);\n",
              "    }\n",
              "    80% {\n",
              "      border-color: transparent;\n",
              "      border-right-color: var(--fill-color);\n",
              "      border-bottom-color: var(--fill-color);\n",
              "    }\n",
              "    90% {\n",
              "      border-color: transparent;\n",
              "      border-bottom-color: var(--fill-color);\n",
              "    }\n",
              "  }\n",
              "</style>\n",
              "\n",
              "  <script>\n",
              "    async function quickchart(key) {\n",
              "      const quickchartButtonEl =\n",
              "        document.querySelector('#' + key + ' button');\n",
              "      quickchartButtonEl.disabled = true;  // To prevent multiple clicks.\n",
              "      quickchartButtonEl.classList.add('colab-df-spinner');\n",
              "      try {\n",
              "        const charts = await google.colab.kernel.invokeFunction(\n",
              "            'suggestCharts', [key], {});\n",
              "      } catch (error) {\n",
              "        console.error('Error during call to suggestCharts:', error);\n",
              "      }\n",
              "      quickchartButtonEl.classList.remove('colab-df-spinner');\n",
              "      quickchartButtonEl.classList.add('colab-df-quickchart-complete');\n",
              "    }\n",
              "    (() => {\n",
              "      let quickchartButtonEl =\n",
              "        document.querySelector('#df-9dc233db-cf2b-47c3-a4b4-c6dfd63f2b1b button');\n",
              "      quickchartButtonEl.style.display =\n",
              "        google.colab.kernel.accessAllowed ? 'block' : 'none';\n",
              "    })();\n",
              "  </script>\n",
              "</div>\n",
              "\n",
              "    </div>\n",
              "  </div>\n"
            ],
            "application/vnd.google.colaboratory.intrinsic+json": {
              "type": "dataframe",
              "variable_name": "aligned_atel",
              "summary": "{\n  \"name\": \"aligned_atel\",\n  \"rows\": 1075,\n  \"fields\": [\n    {\n      \"column\": \"timestamp\",\n      \"properties\": {\n        \"dtype\": \"date\",\n        \"min\": \"2020-01-02 00:00:00\",\n        \"max\": \"2024-02-14 00:00:00\",\n        \"num_unique_values\": 1075,\n        \"samples\": [\n          \"2021-08-24 00:00:00\",\n          \"2021-03-15 00:00:00\",\n          \"2021-03-05 00:00:00\"\n        ],\n        \"semantic_type\": \"\",\n        \"description\": \"\"\n      }\n    },\n    {\n      \"column\": \"ClosingPrice\",\n      \"properties\": {\n        \"dtype\": \"number\",\n        \"std\": 8.35751063012273,\n        \"min\": 17.0,\n        \"max\": 43.67,\n        \"num_unique_values\": 24,\n        \"samples\": [\n          17.03,\n          23.5,\n          31.48\n        ],\n        \"semantic_type\": \"\",\n        \"description\": \"\"\n      }\n    }\n  ]\n}"
            }
          },
          "metadata": {},
          "execution_count": 63
        }
      ]
    },
    {
      "cell_type": "markdown",
      "source": [
        "# ATEL MODEL"
      ],
      "metadata": {
        "id": "t-uTn7IcI3I5"
      }
    },
    {
      "cell_type": "markdown",
      "source": [
        "## SPLIT"
      ],
      "metadata": {
        "id": "guGRMGsHJBlS"
      }
    },
    {
      "cell_type": "code",
      "source": [
        "train_atel = aligned_atel[:-30]\n",
        "test_atel = aligned_atel[-30:]"
      ],
      "metadata": {
        "id": "mYTys1eDI0jf"
      },
      "execution_count": null,
      "outputs": []
    },
    {
      "cell_type": "markdown",
      "source": [
        "## BUILD MODEL"
      ],
      "metadata": {
        "id": "clWBb_eoJz-l"
      }
    },
    {
      "cell_type": "code",
      "source": [
        "model_atel = ExponentialSmoothing(train_atel).fit()"
      ],
      "metadata": {
        "id": "i6vLtlVeJtMu"
      },
      "execution_count": null,
      "outputs": []
    },
    {
      "cell_type": "markdown",
      "source": [
        "## EVALUATE"
      ],
      "metadata": {
        "id": "J95rJmiUKpsg"
      }
    },
    {
      "cell_type": "code",
      "source": [
        "pred_atel = model_atel.forecast(steps = 30)"
      ],
      "metadata": {
        "id": "Mh-UG3_yJtI5"
      },
      "execution_count": null,
      "outputs": []
    },
    {
      "cell_type": "code",
      "source": [
        "test_atel['Predictions'] = pred_atel"
      ],
      "metadata": {
        "colab": {
          "base_uri": "https://localhost:8080/"
        },
        "id": "YPCK0Dh8JtG7",
        "outputId": "27e0edaa-90da-402c-b7e7-bd845718b135"
      },
      "execution_count": null,
      "outputs": [
        {
          "output_type": "stream",
          "name": "stderr",
          "text": [
            "<ipython-input-67-e33764ab5fdb>:1: SettingWithCopyWarning: \n",
            "A value is trying to be set on a copy of a slice from a DataFrame.\n",
            "Try using .loc[row_indexer,col_indexer] = value instead\n",
            "\n",
            "See the caveats in the documentation: https://pandas.pydata.org/pandas-docs/stable/user_guide/indexing.html#returning-a-view-versus-a-copy\n",
            "  test_atel['Predictions'] = pred_atel\n"
          ]
        }
      ]
    },
    {
      "cell_type": "code",
      "source": [
        "test_atel.plot(figsize=(14,5))"
      ],
      "metadata": {
        "colab": {
          "base_uri": "https://localhost:8080/",
          "height": 493
        },
        "id": "COR7eRs5Js9m",
        "outputId": "6175bafb-656c-4127-e9f4-be10fb5165cd"
      },
      "execution_count": null,
      "outputs": [
        {
          "output_type": "execute_result",
          "data": {
            "text/plain": [
              "<Axes: xlabel='timestamp'>"
            ]
          },
          "metadata": {},
          "execution_count": 68
        },
        {
          "output_type": "display_data",
          "data": {
            "text/plain": [
              "<Figure size 1400x500 with 1 Axes>"
            ],
            "image/png": "[encoded data removed]"
          },
          "metadata": {}
        }
      ]
    },
    {
      "cell_type": "code",
      "source": [
        "y_pred_baseline_atel = [(train_atel.mean())]*len(train_atel)\n",
        "mae_baseline_atel = mean_absolute_error(train_atel,y_pred_baseline_atel)\n",
        "\n",
        "\n",
        "print(\"Baseline MAE:\", round(mae_baseline_atel, 2))"
      ],
      "metadata": {
        "id": "YAd5lMHz6i51",
        "colab": {
          "base_uri": "https://localhost:8080/"
        },
        "outputId": "cd6617d0-acba-4e02-88ca-cf45d866295d"
      },
      "execution_count": null,
      "outputs": [
        {
          "output_type": "stream",
          "name": "stdout",
          "text": [
            "Baseline MAE: 6.7\n"
          ]
        }
      ]
    },
    {
      "cell_type": "code",
      "source": [
        "test_atel['ClosingPrice'].mean()\n",
        "rmse_atel=sqrt(mean_squared_error(pred_atel,test_atel['ClosingPrice']))\n",
        "mae_atel=mean_absolute_error(pred_atel,test_atel['ClosingPrice'])\n",
        "print(f\"Test RMSE: {rmse_atel}\" ,f\"Test MAE: {mae_atel}\" )"
      ],
      "metadata": {
        "id": "hsI-C2eayJXj",
        "colab": {
          "base_uri": "https://localhost:8080/"
        },
        "outputId": "5b69c811-5cbc-493d-fbf0-895633ea36ca"
      },
      "execution_count": null,
      "outputs": [
        {
          "output_type": "stream",
          "name": "stdout",
          "text": [
            "Test RMSE: 0.1442798207188629 Test MAE: 0.10833333333333475\n"
          ]
        }
      ]
    },
    {
      "cell_type": "markdown",
      "source": [
        "# CECZ MODEL"
      ],
      "metadata": {
        "id": "NeeGnNFfMc6T"
      }
    },
    {
      "cell_type": "markdown",
      "source": [
        "## SPLIT"
      ],
      "metadata": {
        "id": "cade4yJbMc6U"
      }
    },
    {
      "cell_type": "code",
      "source": [
        "train_cecz = aligned_cecz[:-30]\n",
        "test_cecz = aligned_cecz[-30:]"
      ],
      "metadata": {
        "id": "x-z1nG6UMc6U"
      },
      "execution_count": null,
      "outputs": []
    },
    {
      "cell_type": "markdown",
      "source": [
        "## BUILD MODEL"
      ],
      "metadata": {
        "id": "RQSbUx73Mc6U"
      }
    },
    {
      "cell_type": "code",
      "source": [
        "model_cecz = ExponentialSmoothing(train_cecz).fit()"
      ],
      "metadata": {
        "id": "qSMQFD8VMc6U"
      },
      "execution_count": null,
      "outputs": []
    },
    {
      "cell_type": "markdown",
      "source": [
        "## EVALUATE"
      ],
      "metadata": {
        "id": "y2fiKieEMc6U"
      }
    },
    {
      "cell_type": "code",
      "source": [
        "pred_cecz = model_cecz.forecast(steps = 30)"
      ],
      "metadata": {
        "id": "Fr60M0yaMc6V"
      },
      "execution_count": null,
      "outputs": []
    },
    {
      "cell_type": "code",
      "source": [
        "test_cecz['Predictions'] = pred_cecz"
      ],
      "metadata": {
        "colab": {
          "base_uri": "https://localhost:8080/"
        },
        "outputId": "3b78fe97-5e37-42f2-9449-db5ef5ae8c77",
        "id": "Rh6CdlK-Mc6V"
      },
      "execution_count": null,
      "outputs": [
        {
          "output_type": "stream",
          "name": "stderr",
          "text": [
            "<ipython-input-74-9e3cb71421b3>:1: SettingWithCopyWarning: \n",
            "A value is trying to be set on a copy of a slice from a DataFrame.\n",
            "Try using .loc[row_indexer,col_indexer] = value instead\n",
            "\n",
            "See the caveats in the documentation: https://pandas.pydata.org/pandas-docs/stable/user_guide/indexing.html#returning-a-view-versus-a-copy\n",
            "  test_cecz['Predictions'] = pred_cecz\n"
          ]
        }
      ]
    },
    {
      "cell_type": "code",
      "source": [
        "test_cecz.plot(figsize=(14,5))"
      ],
      "metadata": {
        "colab": {
          "base_uri": "https://localhost:8080/",
          "height": 500
        },
        "outputId": "531ae96e-c746-4d7e-d206-91a20963a584",
        "id": "CkJuNBNXMc6V"
      },
      "execution_count": null,
      "outputs": [
        {
          "output_type": "execute_result",
          "data": {
            "text/plain": [
              "<Axes: xlabel='timestamp'>"
            ]
          },
          "metadata": {},
          "execution_count": 75
        },
        {
          "output_type": "display_data",
          "data": {
            "text/plain": [
              "<Figure size 1400x500 with 1 Axes>"
            ],
            "image/png": "[encoded data removed]"
          },
          "metadata": {}
        }
      ]
    },
    {
      "cell_type": "code",
      "source": [
        "y_pred_baseline_cecz = [(train_cecz.mean())]*len(train_cecz)\n",
        "mae_baseline_cecz = mean_absolute_error(train_cecz,y_pred_baseline_cecz)\n",
        "\n",
        "\n",
        "print(\"Baseline MAE:\", round(mae_baseline_cecz, 2))"
      ],
      "metadata": {
        "colab": {
          "base_uri": "https://localhost:8080/"
        },
        "outputId": "e3a357b5-712e-4678-e6b3-51759eca4254",
        "id": "gcyFvTmIMc6V"
      },
      "execution_count": null,
      "outputs": [
        {
          "output_type": "stream",
          "name": "stdout",
          "text": [
            "Baseline MAE: 1.61\n"
          ]
        }
      ]
    },
    {
      "cell_type": "code",
      "source": [
        "test_cecz['ClosingPrice'].mean()\n",
        "rmse_cecz=sqrt(mean_squared_error(pred_atel,test_cecz['ClosingPrice']))\n",
        "mae_cecz=mean_absolute_error(pred_atel,test_cecz['ClosingPrice'])\n",
        "print(f\"Test RMSE: {rmse_cecz}\" ,f\"Test MAE: {mae_cecz}\" )"
      ],
      "metadata": {
        "outputId": "77d51e21-4e10-4026-92d2-5b6e8660539b",
        "colab": {
          "base_uri": "https://localhost:8080/"
        },
        "id": "esocpqRDMc6W"
      },
      "execution_count": null,
      "outputs": [
        {
          "output_type": "stream",
          "name": "stdout",
          "text": [
            "Test RMSE: 36.31922264219506 Test MAE: 36.318666666666665\n"
          ]
        }
      ]
    },
    {
      "cell_type": "markdown",
      "source": [
        "# REIZ MODEL"
      ],
      "metadata": {
        "id": "ErRCtkd8MhzP"
      }
    },
    {
      "cell_type": "markdown",
      "source": [
        "## SPLIT"
      ],
      "metadata": {
        "id": "hbaooo9jMhzl"
      }
    },
    {
      "cell_type": "code",
      "source": [
        "train_reiz = aligned_reiz[:-30]\n",
        "test_reiz = aligned_reiz[-30:]"
      ],
      "metadata": {
        "id": "nl52z0k0Mhzl"
      },
      "execution_count": null,
      "outputs": []
    },
    {
      "cell_type": "markdown",
      "source": [
        "## BUILD MODEL"
      ],
      "metadata": {
        "id": "fj4v98zDMhzl"
      }
    },
    {
      "cell_type": "code",
      "source": [
        "model_reiz = ExponentialSmoothing(train_reiz).fit()"
      ],
      "metadata": {
        "id": "lsyaaIj5Mhzm"
      },
      "execution_count": null,
      "outputs": []
    },
    {
      "cell_type": "markdown",
      "source": [
        "## EVALUATE"
      ],
      "metadata": {
        "id": "MlgNI75jMhzm"
      }
    },
    {
      "cell_type": "code",
      "source": [
        "pred_reiz = model_reiz.forecast(steps = 30)"
      ],
      "metadata": {
        "id": "_j8qsdNqMhzm"
      },
      "execution_count": null,
      "outputs": []
    },
    {
      "cell_type": "code",
      "source": [
        "test_reiz['Predictions'] = pred_reiz"
      ],
      "metadata": {
        "colab": {
          "base_uri": "https://localhost:8080/"
        },
        "outputId": "17f74f20-e83a-4bea-a6d0-1fb563d4f0a1",
        "id": "5qMP1f8qMhzm"
      },
      "execution_count": null,
      "outputs": [
        {
          "output_type": "stream",
          "name": "stderr",
          "text": [
            "<ipython-input-81-269c7cd7b2bf>:1: SettingWithCopyWarning: \n",
            "A value is trying to be set on a copy of a slice from a DataFrame.\n",
            "Try using .loc[row_indexer,col_indexer] = value instead\n",
            "\n",
            "See the caveats in the documentation: https://pandas.pydata.org/pandas-docs/stable/user_guide/indexing.html#returning-a-view-versus-a-copy\n",
            "  test_reiz['Predictions'] = pred_reiz\n"
          ]
        }
      ]
    },
    {
      "cell_type": "code",
      "source": [
        "test_reiz.plot(figsize=(14,5))"
      ],
      "metadata": {
        "colab": {
          "base_uri": "https://localhost:8080/",
          "height": 496
        },
        "outputId": "04a25e77-e85f-4ce1-97ae-498e9b3bc1a5",
        "id": "hRPE8ESBMhzm"
      },
      "execution_count": null,
      "outputs": [
        {
          "output_type": "execute_result",
          "data": {
            "text/plain": [
              "<Axes: xlabel='timestamp'>"
            ]
          },
          "metadata": {},
          "execution_count": 82
        },
        {
          "output_type": "display_data",
          "data": {
            "text/plain": [
              "<Figure size 1400x500 with 1 Axes>"
            ],
            "image/png": "[encoded data removed]"
          },
          "metadata": {}
        }
      ]
    },
    {
      "cell_type": "code",
      "source": [
        "y_pred_baseline_reiz = [(train_reiz.mean())]*len(train_reiz)\n",
        "mae_baseline_reiz = mean_absolute_error(train_reiz,y_pred_baseline_reiz)\n",
        "\n",
        "\n",
        "print(\"Baseline MAE:\", round(mae_baseline_reiz, 2))"
      ],
      "metadata": {
        "colab": {
          "base_uri": "https://localhost:8080/"
        },
        "outputId": "3a391133-bec6-402b-a875-ade755c12514",
        "id": "mZ-ETF8GMhzm"
      },
      "execution_count": null,
      "outputs": [
        {
          "output_type": "stream",
          "name": "stdout",
          "text": [
            "Baseline MAE: 0.88\n"
          ]
        }
      ]
    },
    {
      "cell_type": "code",
      "source": [
        "test_reiz['ClosingPrice'].mean()\n",
        "rmse_reiz=sqrt(mean_squared_error(pred_reiz,test_reiz['ClosingPrice']))\n",
        "mae_reiz=mean_absolute_error(pred_reiz,test_reiz['ClosingPrice'])\n",
        "print(f\"Test RMSE: {rmse_reiz}\" ,f\"Test MAE: {mae_reiz}\" )"
      ],
      "metadata": {
        "outputId": "0917e49e-e5fc-45ce-b20d-2a497dc9c6e5",
        "colab": {
          "base_uri": "https://localhost:8080/"
        },
        "id": "oy7oyy0YMhzn"
      },
      "execution_count": null,
      "outputs": [
        {
          "output_type": "stream",
          "name": "stdout",
          "text": [
            "Test RMSE: 0.0296085573216033 Test MAE: 0.02100000000000002\n"
          ]
        }
      ]
    },
    {
      "cell_type": "markdown",
      "source": [
        "# SCBL MODEL"
      ],
      "metadata": {
        "id": "gE9ZeB2LMk5_"
      }
    },
    {
      "cell_type": "markdown",
      "source": [
        "## SPLIT"
      ],
      "metadata": {
        "id": "nUnmp4faMk6Y"
      }
    },
    {
      "cell_type": "code",
      "source": [
        "train_scbl = aligned_scbl[:-30]\n",
        "test_scbl = aligned_scbl[-30:]"
      ],
      "metadata": {
        "id": "mAP_qbuFMk6Y"
      },
      "execution_count": null,
      "outputs": []
    },
    {
      "cell_type": "markdown",
      "source": [
        "## BUILD MODEL"
      ],
      "metadata": {
        "id": "lFMIHJ9VMk6Y"
      }
    },
    {
      "cell_type": "code",
      "source": [
        "model_scbl = ExponentialSmoothing(train_scbl).fit()"
      ],
      "metadata": {
        "id": "S_ITcCB8Mk6Y"
      },
      "execution_count": null,
      "outputs": []
    },
    {
      "cell_type": "markdown",
      "source": [
        "## EVALUATE"
      ],
      "metadata": {
        "id": "k_o5GENBMk6Z"
      }
    },
    {
      "cell_type": "code",
      "source": [
        "pred_scbl = model_scbl.forecast(steps = 30)"
      ],
      "metadata": {
        "id": "Iv5SUa0xMk6Z"
      },
      "execution_count": null,
      "outputs": []
    },
    {
      "cell_type": "code",
      "source": [
        "test_scbl['Predictions'] = pred_scbl"
      ],
      "metadata": {
        "colab": {
          "base_uri": "https://localhost:8080/"
        },
        "outputId": "1cc5a937-0540-4f7f-c74e-f04c259f48b5",
        "id": "KPH-qXwtMk6Z"
      },
      "execution_count": null,
      "outputs": [
        {
          "output_type": "stream",
          "name": "stderr",
          "text": [
            "<ipython-input-88-739387e37cf0>:1: SettingWithCopyWarning: \n",
            "A value is trying to be set on a copy of a slice from a DataFrame.\n",
            "Try using .loc[row_indexer,col_indexer] = value instead\n",
            "\n",
            "See the caveats in the documentation: https://pandas.pydata.org/pandas-docs/stable/user_guide/indexing.html#returning-a-view-versus-a-copy\n",
            "  test_scbl['Predictions'] = pred_scbl\n"
          ]
        }
      ]
    },
    {
      "cell_type": "code",
      "source": [
        "test_scbl.plot(figsize=(14,5))"
      ],
      "metadata": {
        "colab": {
          "base_uri": "https://localhost:8080/",
          "height": 496
        },
        "outputId": "dac714c4-07a9-4341-f5e2-bade581e3ea9",
        "id": "wJHi2xYMMk6Z"
      },
      "execution_count": null,
      "outputs": [
        {
          "output_type": "execute_result",
          "data": {
            "text/plain": [
              "<Axes: xlabel='timestamp'>"
            ]
          },
          "metadata": {},
          "execution_count": 89
        },
        {
          "output_type": "display_data",
          "data": {
            "text/plain": [
              "<Figure size 1400x500 with 1 Axes>"
            ],
            "image/png": "[encoded data removed]"
          },
          "metadata": {}
        }
      ]
    },
    {
      "cell_type": "code",
      "source": [
        "y_pred_baseline_scbl = [(train_scbl.mean())]*len(train_scbl)\n",
        "mae_baseline_scbl = mean_absolute_error(train_scbl,y_pred_baseline_scbl)\n",
        "\n",
        "\n",
        "print(\"Baseline MAE:\", round(mae_baseline_scbl, 2))"
      ],
      "metadata": {
        "colab": {
          "base_uri": "https://localhost:8080/"
        },
        "outputId": "8524ce31-e697-4e3a-bf23-fe534d1d62c6",
        "id": "aWDq0XQxMk6a"
      },
      "execution_count": null,
      "outputs": [
        {
          "output_type": "stream",
          "name": "stdout",
          "text": [
            "Baseline MAE: 0.13\n"
          ]
        }
      ]
    },
    {
      "cell_type": "code",
      "source": [
        "test_scbl['ClosingPrice'].mean()\n",
        "rmse_scbl=sqrt(mean_squared_error(pred_scbl,test_scbl['ClosingPrice']))\n",
        "mae_scbl=mean_absolute_error(pred_scbl,test_scbl['ClosingPrice'])\n",
        "print(f\"Test RMSE: {rmse_scbl}\" ,f\"Test MAE: {mae_scbl}\" )"
      ],
      "metadata": {
        "outputId": "1dec4428-3421-4682-930c-bb39983eb040",
        "colab": {
          "base_uri": "https://localhost:8080/"
        },
        "id": "NTlsZXrgMk6a"
      },
      "execution_count": null,
      "outputs": [
        {
          "output_type": "stream",
          "name": "stdout",
          "text": [
            "Test RMSE: 0.14765951826188967 Test MAE: 0.13099999999999998\n"
          ]
        }
      ]
    },
    {
      "cell_type": "markdown",
      "source": [
        "# SHOP MODEL"
      ],
      "metadata": {
        "id": "nhktLTeIM1JM"
      }
    },
    {
      "cell_type": "markdown",
      "source": [
        "## SPLIT"
      ],
      "metadata": {
        "id": "3uh70E50M1JZ"
      }
    },
    {
      "cell_type": "code",
      "source": [
        "train_shop = aligned_shop[:-30]\n",
        "test_shop = aligned_shop[-30:]"
      ],
      "metadata": {
        "id": "9zQmjCOGM1JZ"
      },
      "execution_count": null,
      "outputs": []
    },
    {
      "cell_type": "markdown",
      "source": [
        "## BUILD MODEL"
      ],
      "metadata": {
        "id": "M9k4yFnPM1JZ"
      }
    },
    {
      "cell_type": "code",
      "source": [
        "model_shop = ExponentialSmoothing(train_shop).fit()"
      ],
      "metadata": {
        "id": "jSR_YGjAM1Ja"
      },
      "execution_count": null,
      "outputs": []
    },
    {
      "cell_type": "markdown",
      "source": [
        "## EVALUATE"
      ],
      "metadata": {
        "id": "BC9_kDhhM1Ja"
      }
    },
    {
      "cell_type": "code",
      "source": [
        "pred_shop = model_shop.forecast(steps = 30)"
      ],
      "metadata": {
        "id": "ke6KvXqYM1Ja"
      },
      "execution_count": null,
      "outputs": []
    },
    {
      "cell_type": "code",
      "source": [
        "test_shop['Predictions'] = pred_shop"
      ],
      "metadata": {
        "colab": {
          "base_uri": "https://localhost:8080/"
        },
        "outputId": "dbbd0ce5-50e3-4d14-d4f1-59c7ffa00e32",
        "id": "YPAEIL7SM1Ja"
      },
      "execution_count": null,
      "outputs": [
        {
          "output_type": "stream",
          "name": "stderr",
          "text": [
            "<ipython-input-95-30a50c9f0ca0>:1: SettingWithCopyWarning: \n",
            "A value is trying to be set on a copy of a slice from a DataFrame.\n",
            "Try using .loc[row_indexer,col_indexer] = value instead\n",
            "\n",
            "See the caveats in the documentation: https://pandas.pydata.org/pandas-docs/stable/user_guide/indexing.html#returning-a-view-versus-a-copy\n",
            "  test_shop['Predictions'] = pred_shop\n"
          ]
        }
      ]
    },
    {
      "cell_type": "code",
      "source": [
        "test_shop.plot(figsize=(14,5))"
      ],
      "metadata": {
        "colab": {
          "base_uri": "https://localhost:8080/",
          "height": 502
        },
        "outputId": "a3d53cb6-b781-4b90-ae62-a0fcb5d4e613",
        "id": "HaYot5PcM1Ja"
      },
      "execution_count": null,
      "outputs": [
        {
          "output_type": "execute_result",
          "data": {
            "text/plain": [
              "<Axes: xlabel='timestamp'>"
            ]
          },
          "metadata": {},
          "execution_count": 96
        },
        {
          "output_type": "display_data",
          "data": {
            "text/plain": [
              "<Figure size 1400x500 with 1 Axes>"
            ],
            "image/png": "[encoded data removed]"
          },
          "metadata": {}
        }
      ]
    },
    {
      "cell_type": "code",
      "source": [
        "y_pred_baseline_shop = [(train_shop.mean())]*len(train_shop)\n",
        "mae_baseline_shop = mean_absolute_error(train_shop,y_pred_baseline_shop)\n",
        "\n",
        "\n",
        "print(\"Baseline MAE:\", round(mae_baseline_shop, 2))"
      ],
      "metadata": {
        "colab": {
          "base_uri": "https://localhost:8080/"
        },
        "outputId": "efd49d03-3dca-4fcd-aaf3-8d086331eae8",
        "id": "I4bbVGrCM1Jb"
      },
      "execution_count": null,
      "outputs": [
        {
          "output_type": "stream",
          "name": "stdout",
          "text": [
            "Baseline MAE: 0.47\n"
          ]
        }
      ]
    },
    {
      "cell_type": "code",
      "source": [
        "test_shop['ClosingPrice'].mean()\n",
        "rmse_shop=sqrt(mean_squared_error(pred_shop,test_shop['ClosingPrice']))\n",
        "mae_shop=mean_absolute_error(pred_shop,test_shop['ClosingPrice'])\n",
        "print(f\"Test RMSE: {rmse_shop}\" ,f\"Test MAE: {mae_shop}\" )"
      ],
      "metadata": {
        "outputId": "c361a420-76e5-49db-d9cc-b02f8ced5794",
        "colab": {
          "base_uri": "https://localhost:8080/"
        },
        "id": "8cXFCuF8M1Jb"
      },
      "execution_count": null,
      "outputs": [
        {
          "output_type": "stream",
          "name": "stdout",
          "text": [
            "Test RMSE: 0.0 Test MAE: 0.0\n"
          ]
        }
      ]
    }
  ]
}